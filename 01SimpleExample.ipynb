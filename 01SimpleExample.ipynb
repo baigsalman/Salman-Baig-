{
 "cells": [
  {
   "cell_type": "markdown",
   "metadata": {},
   "source": [
    "# Introduction\n",
    "\n",
    "\n",
    "This Notebook is the simplest example for how to run one single piece of code in Python for the course. Edit someting.\n"
   ]
  },
  {
   "cell_type": "code",
   "execution_count": 1,
   "metadata": {
    "scrolled": true
   },
   "outputs": [
    {
     "name": "stdout",
     "output_type": "stream",
     "text": [
      "\n",
      " Hello world! Python is great! The editor of this code is Salman Baig\n"
     ]
    }
   ],
   "source": [
    "#This is the simplest of the codes for Python\n",
    "\n",
    "txt=\"Python is great!\"\n",
    "txt2=\" The editor of this code is Salman Baig\"\n",
    "print('\\n Hello world! '+txt+txt2)\n"
   ]
  },
  {
   "cell_type": "markdown",
   "metadata": {},
   "source": [
    "We just ran our first Python code on a notebook!\n",
    "\n",
    "Test your knowledge:\n",
    "\n",
    "* Execute 3 of the code examples in the tutorial and add some Markdown cells\n",
    "- List heading\n",
    " - one\n",
    " - two\n"
   ]
  },
  {
   "cell_type": "code",
   "execution_count": 8,
   "metadata": {},
   "outputs": [
    {
     "name": "stdout",
     "output_type": "stream",
     "text": [
      "\n",
      " Hello world! Python is great! The editor of this code is Salman Baig\n"
     ]
    }
   ],
   "source": [
    "txt=\"Python is great!\"\n",
    "txt2=\" The editor of this code is Salman Baig\"\n",
    "print('\\n Hello world! '+txt+txt2)"
   ]
  },
  {
   "cell_type": "markdown",
   "metadata": {},
   "source": [
    "# Salman Baig\n",
    "Student ID-0660467"
   ]
  },
  {
   "cell_type": "code",
   "execution_count": 17,
   "metadata": {},
   "outputs": [
    {
     "name": "stdout",
     "output_type": "stream",
     "text": [
      "\n",
      " Hello Class! My name is Salman! I am from Pakistan and taking MSc Electrical from Lakehead university Canada and today I am running my first python code.\n"
     ]
    }
   ],
   "source": [
    "#This is my first code on Jupyter Notebook.\n",
    "\n",
    "txt=\" My name is Salman!\"\n",
    "txt2=\" I am from Pakistan and taking MSc Electrical from Lakehead university Canada\"\n",
    "txt3=\" and today I am running my first python code.\"\n",
    "print('\\n Hello Class!' +txt+txt2+txt3)"
   ]
  },
  {
   "cell_type": "markdown",
   "metadata": {},
   "source": [
    "The above code show my Bio data and contains information about my first coding."
   ]
  },
  {
   "cell_type": "code",
   "execution_count": 18,
   "metadata": {},
   "outputs": [
    {
     "name": "stdout",
     "output_type": "stream",
     "text": [
      "\n",
      " Friends!! I have three years of experience in telecommunication as I served a reputed celluar company of Pakistan.\n"
     ]
    }
   ],
   "source": [
    "#Work Experience\n",
    "\n",
    "txt= \" I have three years of experience in telecommunication\"\n",
    "txt2=\" as I served a reputed celluar company of Pakistan.\"\n",
    "print('\\n Friends!!' +txt+txt2)"
   ]
  },
  {
   "cell_type": "markdown",
   "metadata": {},
   "source": [
    "The above code shows my work experience."
   ]
  }
 ],
 "metadata": {
  "anaconda-cloud": {},
  "kernelspec": {
   "display_name": "Python 3",
   "language": "python",
   "name": "python3"
  },
  "language_info": {
   "codemirror_mode": {
    "name": "ipython",
    "version": 3
   },
   "file_extension": ".py",
   "mimetype": "text/x-python",
   "name": "python",
   "nbconvert_exporter": "python",
   "pygments_lexer": "ipython3",
   "version": "3.6.1"
  }
 },
 "nbformat": 4,
 "nbformat_minor": 1
}
